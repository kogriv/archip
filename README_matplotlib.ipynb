{
 "cells": [
  {
   "cell_type": "markdown",
   "metadata": {},
   "source": [
    "В Jupyter Notebook команда `%matplotlib inline` используется для того, чтобы графики, создаваемые с помощью библиотеки **Matplotlib**, отображались непосредственно в ячейках ноутбука, рядом с кодом, который их создает. Вот зачем это нужно и как это работает:\n",
    "\n",
    "Отображение графиков в ячейках:  \n",
    "Когда вы используете `%matplotlib inline`, Jupyter Notebook автоматически встраивает графики в выходные данные соответствующей ячейки. Это удобно для анализа данных, поскольку вы видите результаты вашего кода сразу же, не переходя в другие окна или файлы.  \n",
    "Удобство и интеграция:  \n",
    "При работе с данными важно иметь возможность быстро визуализировать результаты, проверять гипотезы и анализировать графики. `%matplotlib inline` упрощает этот процесс, поскольку все графики автоматически появляются прямо в тетрадке, что делает рабочий процесс более плавным и эффективным.  \n",
    "Необязательность команды:  \n",
    "Хотя `%matplotlib inline` очень полезна в Jupyter Notebook, она не является строго обязательной. Без этой команды графики все равно можно создавать, но для их отображения может потребоваться дополнительная настройка, например, вызов `plt.show()` для каждого графика или использование других магических команд Matplotlib, таких как `%matplotlib notebook` (которая создает более интерактивные графики).  \n",
    "Альтернативные команды:  \n",
    "**`%matplotlib notebook`**: Эта команда также позволяет отображать графики внутри ячеек Jupyter, но с добавлением интерактивных возможностей, таких как масштабирование и панорамирование.  \n",
    "**`%matplotlib widget`**: Предоставляет интерактивные возможности с использованием библиотеки `ipywidgets`, подходящей для более сложных визуализаций.  \n"
   ]
  },
  {
   "cell_type": "code",
   "execution_count": null,
   "metadata": {
    "vscode": {
     "languageId": "plaintext"
    }
   },
   "outputs": [],
   "source": [
    "# Пример данных\n",
    "pct_frq_list = [\n",
    "    ['None', '17031980000', '17031320100', '17031839100', \n",
    "    '17031220100', '17031290100', '17031360100', '17031661000', \n",
    "    '17031081900', '17031160400', '17031160500', '17031250100', \n",
    "    '17031150100', '17031050300', '17031330100', '17031421200', \n",
    "    '17031842100', '17031170300', '17031839100', '17031240200'],\n",
    "    [3758594, 519802, 304178, 284131, 253421, 223411, 193483, \n",
    "    193203, 183291, 172910, 160291, 153202, 150209, 147209, \n",
    "    142201, 140209, 138201, 132209, 130210, 127201]\n",
    "]\n",
    "\n",
    "# Преобразование значений оси X в строки\n",
    "x_values = [str(x) for x in pct_frq_list[0][1:20]]\n",
    "y_values = pct_frq_list[1][1:20]\n",
    "\n",
    "# Построение бар-графика с явным указанием типа данных для оси X\n",
    "plt.figure(figsize=(10, 6))\n",
    "plt.bar(range(len(x_values)), y_values, color='orange')\n",
    "plt.xlabel('Pickup Location')\n",
    "plt.ylabel('Frequency')\n",
    "plt.title('Frequency of Pickups by Location')\n",
    "plt.xticks(range(len(x_values)), x_values, rotation=90)\n",
    "plt.show()"
   ]
  },
  {
   "cell_type": "markdown",
   "metadata": {},
   "source": [
    "В этом коде мы используем `range(len(x_values))` для генерации последовательности чисел в качестве значений оси X, а затем устанавливаем метки оси X в соответствии с исходными строками `x_values`. Это гарантирует, что строки будут интерпретироваться как категории при построении графика.\n",
    "\n",
    "Если использовать просто `x_values`, выдастся предупреждение  \n",
    "`INFO:matplotlib.category:Using categorical units to plot a list of strings that are all parsable as floats or dates. If these strings should be plotted as numbers, cast to the appropriate data type before plotting.\n",
    "INFO:matplotlib.category:Using categorical units to plot a list of strings that are all parsable as floats or dates. If these strings should be plotted as numbers, cast to the appropriate data type before plotting.`"
   ]
  },
  {
   "cell_type": "markdown",
   "metadata": {},
   "source": []
  }
 ],
 "metadata": {
  "language_info": {
   "name": "python"
  }
 },
 "nbformat": 4,
 "nbformat_minor": 2
}
